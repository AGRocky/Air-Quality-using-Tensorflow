{
 "cells": [
  {
   "cell_type": "markdown",
   "id": "1ce24f02-8857-4bc7-a9bd-fde183498728",
   "metadata": {},
   "source": [
    "# Keras Tuner-Decide Number of Hidden Layers And Neurons In Neural Network "
   ]
  },
  {
   "cell_type": "code",
   "execution_count": 7,
   "id": "19dd4d4e-4314-4734-b91d-39f0c8d799d9",
   "metadata": {},
   "outputs": [
    {
     "name": "stderr",
     "output_type": "stream",
     "text": [
      "C:\\Users\\rocky\\AppData\\Local\\Temp/ipykernel_6964/2084613809.py:3: DeprecationWarning: `import kerastuner` is deprecated, please use `import keras_tuner`.\n",
      "  from kerastuner.tuners import RandomSearch\n"
     ]
    }
   ],
   "source": [
    "import tensorflow as tf\n",
    "import pandas as pd\n",
    "from kerastuner.tuners import RandomSearch"
   ]
  },
  {
   "cell_type": "code",
   "execution_count": 2,
   "id": "de39b67f-583a-4127-a7c9-4f8e36718798",
   "metadata": {},
   "outputs": [
    {
     "data": {
      "text/html": [
       "<div>\n",
       "<style scoped>\n",
       "    .dataframe tbody tr th:only-of-type {\n",
       "        vertical-align: middle;\n",
       "    }\n",
       "\n",
       "    .dataframe tbody tr th {\n",
       "        vertical-align: top;\n",
       "    }\n",
       "\n",
       "    .dataframe thead th {\n",
       "        text-align: right;\n",
       "    }\n",
       "</style>\n",
       "<table border=\"1\" class=\"dataframe\">\n",
       "  <thead>\n",
       "    <tr style=\"text-align: right;\">\n",
       "      <th></th>\n",
       "      <th>T</th>\n",
       "      <th>TM</th>\n",
       "      <th>Tm</th>\n",
       "      <th>SLP</th>\n",
       "      <th>H</th>\n",
       "      <th>VV</th>\n",
       "      <th>V</th>\n",
       "      <th>VM</th>\n",
       "      <th>PM 2.5</th>\n",
       "    </tr>\n",
       "  </thead>\n",
       "  <tbody>\n",
       "    <tr>\n",
       "      <th>0</th>\n",
       "      <td>7.4</td>\n",
       "      <td>9.8</td>\n",
       "      <td>4.8</td>\n",
       "      <td>1017.6</td>\n",
       "      <td>93.0</td>\n",
       "      <td>0.5</td>\n",
       "      <td>4.3</td>\n",
       "      <td>9.4</td>\n",
       "      <td>219.720833</td>\n",
       "    </tr>\n",
       "    <tr>\n",
       "      <th>1</th>\n",
       "      <td>7.8</td>\n",
       "      <td>12.7</td>\n",
       "      <td>4.4</td>\n",
       "      <td>1018.5</td>\n",
       "      <td>87.0</td>\n",
       "      <td>0.6</td>\n",
       "      <td>4.4</td>\n",
       "      <td>11.1</td>\n",
       "      <td>182.187500</td>\n",
       "    </tr>\n",
       "    <tr>\n",
       "      <th>2</th>\n",
       "      <td>6.7</td>\n",
       "      <td>13.4</td>\n",
       "      <td>2.4</td>\n",
       "      <td>1019.4</td>\n",
       "      <td>82.0</td>\n",
       "      <td>0.6</td>\n",
       "      <td>4.8</td>\n",
       "      <td>11.1</td>\n",
       "      <td>154.037500</td>\n",
       "    </tr>\n",
       "    <tr>\n",
       "      <th>3</th>\n",
       "      <td>8.6</td>\n",
       "      <td>15.5</td>\n",
       "      <td>3.3</td>\n",
       "      <td>1018.7</td>\n",
       "      <td>72.0</td>\n",
       "      <td>0.8</td>\n",
       "      <td>8.1</td>\n",
       "      <td>20.6</td>\n",
       "      <td>223.208333</td>\n",
       "    </tr>\n",
       "    <tr>\n",
       "      <th>4</th>\n",
       "      <td>12.4</td>\n",
       "      <td>20.9</td>\n",
       "      <td>4.4</td>\n",
       "      <td>1017.3</td>\n",
       "      <td>61.0</td>\n",
       "      <td>1.3</td>\n",
       "      <td>8.7</td>\n",
       "      <td>22.2</td>\n",
       "      <td>200.645833</td>\n",
       "    </tr>\n",
       "  </tbody>\n",
       "</table>\n",
       "</div>"
      ],
      "text/plain": [
       "      T    TM   Tm     SLP     H   VV    V    VM      PM 2.5\n",
       "0   7.4   9.8  4.8  1017.6  93.0  0.5  4.3   9.4  219.720833\n",
       "1   7.8  12.7  4.4  1018.5  87.0  0.6  4.4  11.1  182.187500\n",
       "2   6.7  13.4  2.4  1019.4  82.0  0.6  4.8  11.1  154.037500\n",
       "3   8.6  15.5  3.3  1018.7  72.0  0.8  8.1  20.6  223.208333\n",
       "4  12.4  20.9  4.4  1017.3  61.0  1.3  8.7  22.2  200.645833"
      ]
     },
     "execution_count": 2,
     "metadata": {},
     "output_type": "execute_result"
    }
   ],
   "source": [
    "df = pd.read_csv('Real_Combine.csv')\n",
    "# Air-quality index prediction\n",
    "df.head()"
   ]
  },
  {
   "cell_type": "code",
   "execution_count": 3,
   "id": "2223e258-6bdd-43ab-aa0c-dea2723a4997",
   "metadata": {},
   "outputs": [],
   "source": [
    "X = df.iloc[:,:-1] ## independent features\n",
    "y = df.iloc[:,-1] ## dependent features"
   ]
  },
  {
   "cell_type": "code",
   "execution_count": 23,
   "id": "007ca181-de63-4d34-b6a0-7c3ce10b3a08",
   "metadata": {},
   "outputs": [],
   "source": [
    "## Custom function for deciding no of neurons and layers\n",
    "\n",
    "# Creating a model\n",
    "def build_model(hp):\n",
    "    model = tf.keras.Sequential()\n",
    "    for i in range(hp.Int('num_layers', 2, 20)): # This particular neural network can have range of 2 to 20\n",
    "        model.add(tf.keras.layers.Dense(units=hp.Int('units_' + str(i),\n",
    "                                                    min_value = 32, # NO of neurons ranging from 32 to 512\n",
    "                                                    max_value = 512,\n",
    "                                                    step = 32),\n",
    "                                       activation='relu'))\n",
    "        model.add(tf.keras.layers.Dense(1, activation='linear'))\n",
    "        \n",
    "        ## Compile a model     \n",
    "        model.compile(optimizer = tf.keras.optimizers.Adam(hp.Choice('learning_rate', [1e-2, 1e-3, 1e-4])), # Learning Rates\n",
    "                      loss= 'mean_absolute_error',\n",
    "                      metrics=['mean_absolute_error'])\n",
    "    return model"
   ]
  },
  {
   "cell_type": "code",
   "execution_count": 10,
   "id": "2c39a341-485d-4ac1-963d-255c8bd61125",
   "metadata": {},
   "outputs": [],
   "source": [
    "tuner = RandomSearch(\n",
    "    build_model,\n",
    "    objective='val_mean_absolute_error',\n",
    "    max_trials=5,\n",
    "    executions_per_trial=3,\n",
    "    directory='project',\n",
    "    project_name='Air Quality Index')"
   ]
  },
  {
   "cell_type": "code",
   "execution_count": 11,
   "id": "06cb46e9-8c05-4bd0-9cae-2716a86dd494",
   "metadata": {
    "tags": []
   },
   "outputs": [
    {
     "name": "stdout",
     "output_type": "stream",
     "text": [
      "Search space summary\n",
      "Default search space size: 4\n",
      "num_layers (Int)\n",
      "{'default': None, 'conditions': [], 'min_value': 2, 'max_value': 20, 'step': 1, 'sampling': None}\n",
      "units_0 (Int)\n",
      "{'default': None, 'conditions': [], 'min_value': 32, 'max_value': 512, 'step': 32, 'sampling': None}\n",
      "learning_rate (Choice)\n",
      "{'default': 0.01, 'conditions': [], 'values': [0.01, 0.001, 0.0001], 'ordered': True}\n",
      "units_1 (Int)\n",
      "{'default': None, 'conditions': [], 'min_value': 32, 'max_value': 512, 'step': 32, 'sampling': None}\n"
     ]
    }
   ],
   "source": [
    "tuner.search_space_summary()"
   ]
  },
  {
   "cell_type": "code",
   "execution_count": 12,
   "id": "665f6a55-acd7-4f17-b0ab-0cbad575863e",
   "metadata": {},
   "outputs": [],
   "source": [
    "from sklearn.model_selection import train_test_split\n",
    "X_train, X_test, y_train, y_test = train_test_split(X, y, test_size=0.3, random_state=0)"
   ]
  },
  {
   "cell_type": "code",
   "execution_count": 13,
   "id": "466bfcd1-75aa-4c1b-947c-e83358d20339",
   "metadata": {},
   "outputs": [
    {
     "name": "stdout",
     "output_type": "stream",
     "text": [
      "Trial 5 Complete [00h 00m 08s]\n",
      "val_mean_absolute_error: nan\n",
      "\n",
      "Best val_mean_absolute_error So Far: nan\n",
      "Total elapsed time: 00h 00m 57s\n",
      "INFO:tensorflow:Oracle triggered exit\n"
     ]
    }
   ],
   "source": [
    "## Fit the model\n",
    "tuner.search(X_train, y_train,\n",
    "             epochs=5,\n",
    "             validation_data=(X_test, y_test))"
   ]
  },
  {
   "cell_type": "code",
   "execution_count": 28,
   "id": "8ca89df4-4e0d-48de-832d-5950e4aad4a4",
   "metadata": {
    "collapsed": true,
    "jupyter": {
     "outputs_hidden": true
    },
    "tags": []
   },
   "outputs": [
    {
     "name": "stdout",
     "output_type": "stream",
     "text": [
      "Results summary\n",
      "Results in .\\untitled_project\n",
      "Showing 10 best trials\n",
      "<keras_tuner.engine.objective.Objective object at 0x0000021FFC4CD3A0>\n",
      "Trial summary\n",
      "Hyperparameters:\n",
      "num_layers: 6\n",
      "units_0: 64\n",
      "learning_rate: 0.0001\n",
      "units_1: 416\n",
      "units_2: 96\n",
      "units_3: 224\n",
      "units_4: 416\n",
      "units_5: 256\n",
      "units_6: 320\n",
      "units_7: 288\n",
      "units_8: 320\n",
      "units_9: 416\n",
      "units_10: 224\n",
      "units_11: 352\n",
      "units_12: 480\n",
      "units_13: 416\n",
      "Score: nan\n",
      "Trial summary\n",
      "Hyperparameters:\n",
      "num_layers: 5\n",
      "units_0: 320\n",
      "learning_rate: 0.0001\n",
      "units_1: 384\n",
      "units_2: 384\n",
      "units_3: 448\n",
      "units_4: 416\n",
      "units_5: 416\n",
      "units_6: 288\n",
      "units_7: 96\n",
      "units_8: 288\n",
      "units_9: 128\n",
      "units_10: 224\n",
      "units_11: 352\n",
      "units_12: 192\n",
      "units_13: 32\n",
      "Score: nan\n",
      "Trial summary\n",
      "Hyperparameters:\n",
      "num_layers: 14\n",
      "units_0: 128\n",
      "learning_rate: 0.001\n",
      "units_1: 224\n",
      "units_2: 32\n",
      "units_3: 32\n",
      "units_4: 32\n",
      "units_5: 32\n",
      "units_6: 32\n",
      "units_7: 32\n",
      "units_8: 32\n",
      "units_9: 32\n",
      "units_10: 32\n",
      "units_11: 32\n",
      "units_12: 32\n",
      "units_13: 32\n",
      "Score: nan\n",
      "Trial summary\n",
      "Hyperparameters:\n",
      "num_layers: 10\n",
      "units_0: 480\n",
      "learning_rate: 0.01\n",
      "units_1: 480\n",
      "units_2: 384\n",
      "units_3: 192\n",
      "units_4: 512\n",
      "units_5: 256\n",
      "units_6: 352\n",
      "units_7: 320\n",
      "units_8: 224\n",
      "units_9: 288\n",
      "units_10: 512\n",
      "units_11: 64\n",
      "units_12: 288\n",
      "units_13: 256\n",
      "Score: nan\n",
      "Trial summary\n",
      "Hyperparameters:\n",
      "num_layers: 4\n",
      "units_0: 320\n",
      "learning_rate: 0.01\n",
      "units_1: 128\n",
      "units_2: 160\n",
      "units_3: 512\n",
      "units_4: 128\n",
      "units_5: 224\n",
      "units_6: 320\n",
      "units_7: 192\n",
      "units_8: 352\n",
      "units_9: 352\n",
      "units_10: 224\n",
      "units_11: 320\n",
      "units_12: 160\n",
      "units_13: 416\n",
      "Score: nan\n"
     ]
    }
   ],
   "source": [
    "tuner.results_summary()"
   ]
  },
  {
   "cell_type": "code",
   "execution_count": null,
   "id": "4fe6aa74-e21f-4c5c-ad7c-12a6813f4436",
   "metadata": {},
   "outputs": [],
   "source": []
  },
  {
   "cell_type": "code",
   "execution_count": null,
   "id": "ab9d098a-ba9a-44b5-a333-8262fd7761a0",
   "metadata": {},
   "outputs": [],
   "source": []
  },
  {
   "cell_type": "code",
   "execution_count": null,
   "id": "8646f715-cbfd-4493-a6e8-06d130bb01b9",
   "metadata": {},
   "outputs": [],
   "source": []
  },
  {
   "cell_type": "code",
   "execution_count": null,
   "id": "73f8e7d3-111d-4fb9-876e-bf7fc6c20f99",
   "metadata": {},
   "outputs": [],
   "source": []
  },
  {
   "cell_type": "code",
   "execution_count": null,
   "id": "a62ecdb5-d5cd-417d-b4f8-002bb04dd40b",
   "metadata": {},
   "outputs": [],
   "source": []
  },
  {
   "cell_type": "code",
   "execution_count": null,
   "id": "6f6ace2f-a338-4681-8a60-8a20a7b26ebe",
   "metadata": {},
   "outputs": [],
   "source": []
  },
  {
   "cell_type": "code",
   "execution_count": null,
   "id": "c59ae9fe-15d8-4870-9d23-981fd1318d1a",
   "metadata": {},
   "outputs": [],
   "source": []
  },
  {
   "cell_type": "code",
   "execution_count": null,
   "id": "a3811fd0-605f-4d84-9d57-c9e4745fc3ea",
   "metadata": {},
   "outputs": [],
   "source": []
  },
  {
   "cell_type": "code",
   "execution_count": null,
   "id": "2a93b92f-9943-4eff-a61a-a7250a4147a8",
   "metadata": {},
   "outputs": [],
   "source": []
  }
 ],
 "metadata": {
  "kernelspec": {
   "display_name": "Python 3 (ipykernel)",
   "language": "python",
   "name": "python3"
  },
  "language_info": {
   "codemirror_mode": {
    "name": "ipython",
    "version": 3
   },
   "file_extension": ".py",
   "mimetype": "text/x-python",
   "name": "python",
   "nbconvert_exporter": "python",
   "pygments_lexer": "ipython3",
   "version": "3.9.9"
  }
 },
 "nbformat": 4,
 "nbformat_minor": 5
}
